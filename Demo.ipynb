{
 "cells": [
  {
   "cell_type": "markdown",
   "id": "f29a5b9b",
   "metadata": {},
   "source": [
    "This notebook is a simple demonstration of the virtual assistant. It currently has no UI and it's output is mostly for demonstration to show how it can be integrated into other products and services.\n",
    "\n",
    "A natural language query comes in. The decreasing rank list of relevant sentences in the documents comes out.\n"
   ]
  },
  {
   "cell_type": "code",
   "execution_count": 1,
   "id": "9df72bdf",
   "metadata": {},
   "outputs": [],
   "source": [
    "# The library when it is loaded is also importing and downloading a few models via an API. It takes a bit of time \n",
    "# (~ 1 min) but makes it more portable.\n",
    "from nlp.wordvectors import TextPreprocessor, VA"
   ]
  },
  {
   "cell_type": "code",
   "execution_count": 2,
   "id": "ca85081d",
   "metadata": {},
   "outputs": [],
   "source": [
    "# Here is a directory from the sample documents, the class will take a text string or a filepath to open.\n",
    "# Additional input sources could be added in the future.\n",
    "file = './documents_processed/comp-pr2022-219.txt'"
   ]
  },
  {
   "cell_type": "code",
   "execution_count": 3,
   "id": "aa5c104a",
   "metadata": {},
   "outputs": [],
   "source": [
    "# The word vectors of all sentences in the document are calculated.\n",
    "agent = VA(filepath = file)"
   ]
  },
  {
   "cell_type": "code",
   "execution_count": 5,
   "id": "ced0fd44",
   "metadata": {},
   "outputs": [],
   "source": [
    "# A series of queries\n",
    "agent.query(\"Who founded FTX\")\n",
    "# agent.query(\"When did FTX collapse?\")\n",
    "# agent.query(\"How did FTX evaluate risk\")\n",
    "# agent.query(\"What laws did FTX violate\")"
   ]
  },
  {
   "cell_type": "code",
   "execution_count": 6,
   "id": "41dfd1ac",
   "metadata": {},
   "outputs": [],
   "source": [
    "# This is a method that takes all of the sentences and cosine similiaries with the queries, ranks them, and takes\n",
    "# the top 10 \"hits\". This is mostly for demo purposes. The actual production data structure would be something like\n",
    "# a ranked tuple list. \n",
    "agent.sort_results()"
   ]
  },
  {
   "cell_type": "code",
   "execution_count": 7,
   "id": "17f9e881",
   "metadata": {},
   "outputs": [
    {
     "name": "stdout",
     "output_type": "stream",
     "text": [
      "Together with Wang and Singh, Bankman- Fried ultimately  founded FTX , which \n",
      "began operations in or around May 2019.\n",
      "=====================\n",
      "From the inception of FTX, Bankman-Fried diverted FTX customer funds to \n",
      "Alameda, and he continued to do so until FTX’s collapse in November 2022.\n",
      "=====================\n",
      "For example, Alameda was the primary market \n",
      "maker on FTX at the time of FTX’s inception in 2019.\n",
      "=====================\n",
      "Contrary to that representation, two $100 million investments made by FTX’s affiliated investment vehicle, FTX Ventures Ltd., were funded with FTX customer funds that had been diverted to Alameda.\n",
      "=====================\n",
      "FTX operated a global crypto asset  trading platform and began operations in or around May \n",
      "2019.\n",
      "=====================\n",
      "In or around January 2020, Bankman-Fried, Wang, and Singh founded FTX US, a \n",
      "crypto asset trading platform designed primarily for customers in the United States.\n",
      "=====================\n",
      "From at least May 2019 through November 2022, Bankman -Fried engaged in a\n",
      "scheme to defraud equity investors in FTX Trading Ltd. (“FTX”), the crypto asset trading \n",
      "platform of which he was CEO and co- founder , at the same time that he was  also defrauding the \n",
      "platform’s customers.\n",
      "=====================\n",
      "FTX Trading Ltd .\n",
      "=====================\n",
      "In that same meeting with FTX investors, FTX also represented that certain \n",
      "investments did not involve the assets of FTX or its customers.\n",
      "=====================\n",
      "Shortly \n",
      "thereafter, FTX and approximately 100 affiliated entities, including FTX US, filed for Chapter \n",
      "11 bankruptcy protection.\n",
      "=====================\n"
     ]
    },
    {
     "data": {
      "text/plain": [
       "[None, None, None, None, None, None, None, None, None, None]"
      ]
     },
     "execution_count": 7,
     "metadata": {},
     "output_type": "execute_result"
    }
   ],
   "source": [
    "[print(r + \"\\n=====================\") for r in agent.top_r]"
   ]
  }
 ],
 "metadata": {
  "kernelspec": {
   "display_name": "Python 3 (ipykernel)",
   "language": "python",
   "name": "python3"
  },
  "language_info": {
   "codemirror_mode": {
    "name": "ipython",
    "version": 3
   },
   "file_extension": ".py",
   "mimetype": "text/x-python",
   "name": "python",
   "nbconvert_exporter": "python",
   "pygments_lexer": "ipython3",
   "version": "3.11.4"
  }
 },
 "nbformat": 4,
 "nbformat_minor": 5
}
